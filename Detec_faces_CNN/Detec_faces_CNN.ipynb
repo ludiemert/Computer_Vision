{
  "nbformat": 4,
  "nbformat_minor": 0,
  "metadata": {
    "colab": {
      "provenance": [],
      "gpuType": "T4"
    },
    "kernelspec": {
      "name": "python3",
      "display_name": "Python 3"
    },
    "language_info": {
      "name": "python"
    },
    "accelerator": "GPU"
  },
  "cells": [
    {
      "cell_type": "code",
      "execution_count": 7,
      "metadata": {
        "colab": {
          "base_uri": "https://localhost:8080/"
        },
        "id": "_5Oe8PfccrEG",
        "outputId": "6005b331-6a70-4db6-f80a-36e693798f89"
      },
      "outputs": [
        {
          "output_type": "stream",
          "name": "stdout",
          "text": [
            "Drive already mounted at /content/drive; to attempt to forcibly remount, call drive.mount(\"/content/drive\", force_remount=True).\n"
          ]
        }
      ],
      "source": [
        "# Deteccao de faces com CNN (redes neurais convolucionais)\n",
        "\n",
        "from google.colab import drive\n",
        "drive.mount('/content/drive')\n",
        "\n",
        "\n",
        "#!pip uninstall -y dlib\n",
        "#!pip install dlib==19.22.1\n",
        "\n"
      ]
    },
    {
      "cell_type": "code",
      "source": [],
      "metadata": {
        "id": "wOs7y6PmfaCg"
      },
      "execution_count": 7,
      "outputs": []
    },
    {
      "cell_type": "code",
      "source": [
        "# Importar bibliotecas\n",
        "import cv2\n",
        "import dlib\n",
        "from google.colab.patches import cv2_imshow\n",
        "\n",
        "# Carregar a imagem\n",
        "caminho_imagem = '/content/drive/MyDrive/Visao Computacional Guia Completo/Images/people2.jpg'\n",
        "imagem = cv2.imread(caminho_imagem)\n",
        "\n",
        "# Verificar se a imagem foi carregada corretamente\n",
        "if imagem is None:\n",
        "    print(\"Erro: imagem não encontrada no caminho fornecido.\")\n",
        "else:\n",
        "    # Carregar o modelo CNN treinado (sem acento no caminho)\n",
        "    caminho_pesos = '/content/drive/MyDrive/Visao Computacional Guia Completo/Weights/mmod_human_face_detector.dat'\n",
        "    detector_face_cnn = dlib.cnn_face_detection_model_v1(caminho_pesos)\n",
        "\n",
        "    # Realizar a detecção\n",
        "    deteccoes = detector_face_cnn(imagem, 1)  # 1 = upsample para melhorar detecção\n",
        "\n",
        "    # Exibir resultados\n",
        "    for i, face in enumerate(deteccoes):\n",
        "        l, t, r, b = face.rect.left(), face.rect.top(), face.rect.right(), face.rect.bottom()\n",
        "        confianca = face.confidence\n",
        "\n",
        "        # Desenhar o retângulo na imagem\n",
        "        cv2.rectangle(imagem, (l, t), (r, b), (0, 255, 0), 2)\n",
        "\n",
        "        # Exibir o valor da confiança na imagem\n",
        "        texto = f\"{confianca:.2f}\"\n",
        "        cv2.putText(imagem, texto, (l, t - 10), cv2.FONT_HERSHEY_SIMPLEX, 0.6, (0, 255, 0), 2)\n",
        "\n",
        "        print(f\"Face {i+1}: Confiança = {confianca:.2f}\")\n",
        "\n",
        "    # Mostrar a imagem com as detecções\n",
        "    cv2_imshow(imagem)"
      ],
      "metadata": {
        "colab": {
          "base_uri": "https://localhost:8080/",
          "height": 228
        },
        "id": "ICtiBPwlZh_r",
        "outputId": "1b701417-6905-45aa-e23e-0ed86f1f479b"
      },
      "execution_count": 9,
      "outputs": [
        {
          "output_type": "error",
          "ename": "RuntimeError",
          "evalue": "Error while calling cudaOccupancyMaxPotentialBlockSize(&num_blocks,&num_threads,K) in file /tmp/pip-install-fj6cgj7r/dlib_6747f03409b14b1cb4529c61d14705b8/dlib/cuda/cuda_utils.h:164. code: 222, reason: the provided PTX was compiled with an unsupported toolchain.",
          "traceback": [
            "\u001b[0;31m---------------------------------------------------------------------------\u001b[0m",
            "\u001b[0;31mRuntimeError\u001b[0m                              Traceback (most recent call last)",
            "\u001b[0;32m<ipython-input-9-41dc998db0fa>\u001b[0m in \u001b[0;36m<cell line: 0>\u001b[0;34m()\u001b[0m\n\u001b[1;32m     17\u001b[0m \u001b[0;34m\u001b[0m\u001b[0m\n\u001b[1;32m     18\u001b[0m     \u001b[0;31m# Realizar a detecção\u001b[0m\u001b[0;34m\u001b[0m\u001b[0;34m\u001b[0m\u001b[0m\n\u001b[0;32m---> 19\u001b[0;31m     \u001b[0mdeteccoes\u001b[0m \u001b[0;34m=\u001b[0m \u001b[0mdetector_face_cnn\u001b[0m\u001b[0;34m(\u001b[0m\u001b[0mimagem\u001b[0m\u001b[0;34m,\u001b[0m \u001b[0;36m1\u001b[0m\u001b[0;34m)\u001b[0m  \u001b[0;31m# 1 = upsample para melhorar detecção\u001b[0m\u001b[0;34m\u001b[0m\u001b[0;34m\u001b[0m\u001b[0m\n\u001b[0m\u001b[1;32m     20\u001b[0m \u001b[0;34m\u001b[0m\u001b[0m\n\u001b[1;32m     21\u001b[0m     \u001b[0;31m# Exibir resultados\u001b[0m\u001b[0;34m\u001b[0m\u001b[0;34m\u001b[0m\u001b[0m\n",
            "\u001b[0;31mRuntimeError\u001b[0m: Error while calling cudaOccupancyMaxPotentialBlockSize(&num_blocks,&num_threads,K) in file /tmp/pip-install-fj6cgj7r/dlib_6747f03409b14b1cb4529c61d14705b8/dlib/cuda/cuda_utils.h:164. code: 222, reason: the provided PTX was compiled with an unsupported toolchain."
          ]
        }
      ]
    }
  ]
}