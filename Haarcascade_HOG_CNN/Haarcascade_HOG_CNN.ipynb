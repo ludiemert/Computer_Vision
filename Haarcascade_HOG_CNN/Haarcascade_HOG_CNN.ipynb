{
  "nbformat": 4,
  "nbformat_minor": 0,
  "metadata": {
    "colab": {
      "provenance": []
    },
    "kernelspec": {
      "name": "python3",
      "display_name": "Python 3"
    },
    "language_info": {
      "name": "python"
    }
  },
  "cells": [
    {
      "cell_type": "code",
      "source": [
        "from google.colab import drive\n",
        "drive.mount('/content/drive')"
      ],
      "metadata": {
        "colab": {
          "base_uri": "https://localhost:8080/"
        },
        "id": "NIKNtW40rfem",
        "outputId": "f0072a88-129e-440c-e50f-4adc5c1f0c7c"
      },
      "execution_count": 1,
      "outputs": [
        {
          "output_type": "stream",
          "name": "stdout",
          "text": [
            "Mounted at /content/drive\n"
          ]
        }
      ]
    },
    {
      "cell_type": "code",
      "source": [
        "import cv2\n",
        "from google.colab.patches import cv2_imshow\n",
        "import dlib"
      ],
      "metadata": {
        "id": "GIh28NeerwG6"
      },
      "execution_count": 2,
      "outputs": []
    },
    {
      "cell_type": "code",
      "source": [
        "imagem = cv2.imread('/content/drive/MyDrive/Visao Computacional Guia Completo/Images/people3.jpg')\n",
        "imagem_cinza = cv2.cvtColor(imagem, cv2.COLOR_BGR2GRAY)"
      ],
      "metadata": {
        "id": "rMG4R5f8r4lC"
      },
      "execution_count": 3,
      "outputs": []
    }
  ]
}